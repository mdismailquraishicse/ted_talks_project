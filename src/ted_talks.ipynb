{
 "cells": [
  {
   "cell_type": "code",
   "execution_count": 30,
   "id": "02ae4e88-56ee-452a-9617-1b80e6895a40",
   "metadata": {},
   "outputs": [],
   "source": [
    "# import libraries\n",
    "import numpy as np # For numerical calculations\n",
    "import pandas as pd # for dataframe\n",
    "import seaborn as sns # Visualizations\n",
    "import matplotlib.pyplot as plt # visualization\n",
    "import nltk # for nlp\n",
    "from nltk.corpus import stopwords"
   ]
  },
  {
   "cell_type": "code",
   "execution_count": 31,
   "id": "7d2abdec-14a2-4aa7-a243-99a3408f51f5",
   "metadata": {},
   "outputs": [],
   "source": [
    "# Load dataset\n",
    "path = '../datasets/data_ted_talks.csv'\n",
    "df = pd.read_csv(path)"
   ]
  },
  {
   "cell_type": "code",
   "execution_count": 32,
   "id": "3037a6da-3ff4-4b83-a61b-a33fc90a55d9",
   "metadata": {},
   "outputs": [
    {
     "name": "stdout",
     "output_type": "stream",
     "text": [
      "   talk_id                            title     speaker_1  \\\n",
      "0        1      Averting the climate crisis       Al Gore   \n",
      "1       92  The best stats you've ever seen  Hans Rosling   \n",
      "2        7                 Simplicity sells   David Pogue   \n",
      "\n",
      "          all_speakers                                    occupations  \\\n",
      "0       {0: 'Al Gore'}                      {0: ['climate advocate']}   \n",
      "1  {0: 'Hans Rosling'}  {0: ['global health expert; data visionary']}   \n",
      "2   {0: 'David Pogue'}                  {0: ['technology columnist']}   \n",
      "\n",
      "                                      about_speakers     views recorded_date  \\\n",
      "0  {0: 'Nobel Laureate Al Gore focused the world’...   3523392    2006-02-25   \n",
      "1  {0: 'In Hans Rosling’s hands, data sings. Glob...  14501685    2006-02-22   \n",
      "2  {0: 'David Pogue is the personal technology co...   1920832    2006-02-24   \n",
      "\n",
      "  published_date    event native_lang  \\\n",
      "0     2006-06-27  TED2006          en   \n",
      "1     2006-06-27  TED2006          en   \n",
      "2     2006-06-27  TED2006          en   \n",
      "\n",
      "                                      available_lang  comments  duration  \\\n",
      "0  ['ar', 'bg', 'cs', 'de', 'el', 'en', 'es', 'fa...     272.0       977   \n",
      "1  ['ar', 'az', 'bg', 'bn', 'bs', 'cs', 'da', 'de...     628.0      1190   \n",
      "2  ['ar', 'bg', 'de', 'el', 'en', 'es', 'fa', 'fr...     124.0      1286   \n",
      "\n",
      "                                              topics  \\\n",
      "0  ['alternative energy', 'cars', 'climate change...   \n",
      "1  ['Africa', 'Asia', 'Google', 'demo', 'economic...   \n",
      "2  ['computers', 'entertainment', 'interface desi...   \n",
      "\n",
      "                                       related_talks  \\\n",
      "0  {243: 'New thinking on the climate crisis', 54...   \n",
      "1  {2056: \"Own your body's data\", 2296: 'A visual...   \n",
      "2  {1725: '10 top time-saving tech tips', 2274: '...   \n",
      "\n",
      "                                                 url  \\\n",
      "0  https://www.ted.com/talks/al_gore_averting_the...   \n",
      "1  https://www.ted.com/talks/hans_rosling_the_bes...   \n",
      "2  https://www.ted.com/talks/david_pogue_simplici...   \n",
      "\n",
      "                                         description  \\\n",
      "0  With the same humor and humanity he exuded in ...   \n",
      "1  You've never seen data presented like this. Wi...   \n",
      "2  New York Times columnist David Pogue takes aim...   \n",
      "\n",
      "                                          transcript  \n",
      "0  Thank you so much, Chris. And it's truly a gre...  \n",
      "1  About 10 years ago, I took on the task to teac...  \n",
      "2  (Music: \"The Sound of Silence,\" Simon & Garfun...  \n"
     ]
    }
   ],
   "source": [
    "print(df.head(3))"
   ]
  },
  {
   "cell_type": "code",
   "execution_count": 33,
   "id": "cf0198c4-26fb-42ab-b910-9f2bb025eca8",
   "metadata": {},
   "outputs": [
    {
     "name": "stdout",
     "output_type": "stream",
     "text": [
      "      talk_id                                             title  \\\n",
      "4002    62263  How \"policing for profit\" undermines your rights   \n",
      "4003    62784      The electrifying speeches of Sojourner Truth   \n",
      "4004    62794              The most important anus in the ocean   \n",
      "\n",
      "                 speaker_1                 all_speakers  \\\n",
      "4002  Dick M. Carpenter II  {0: 'Dick M. Carpenter II'}   \n",
      "4003     Daina Ramey Berry     {0: 'Daina Ramey Berry'}   \n",
      "4004          Cella Wright          {0: 'Cella Wright'}   \n",
      "\n",
      "                  occupations  \\\n",
      "4002  {0: ['law researcher']}   \n",
      "4003                      NaN   \n",
      "4004                      NaN   \n",
      "\n",
      "                                         about_speakers   views recorded_date  \\\n",
      "4002  {0: 'Dick M. Carpenter II studies cutting edge...  464414    2019-06-22   \n",
      "4003                                                NaN   56582    2020-04-28   \n",
      "4004                                                NaN       0    2020-04-30   \n",
      "\n",
      "     published_date         event native_lang available_lang  comments  \\\n",
      "4002     2020-04-28  TEDxMileHigh          en         ['en']       9.0   \n",
      "4003     2020-04-30        TED-Ed          en         ['en']       NaN   \n",
      "4004     2020-04-30        TED-Ed          en         ['en']       NaN   \n",
      "\n",
      "      duration                                             topics  \\\n",
      "4002       774  ['society', 'law', 'policy', 'justice system',...   \n",
      "4003       257  ['TED-Ed', 'education', 'animation', 'United S...   \n",
      "4004       281  ['animals', 'TED-Ed', 'animation', 'oceans', '...   \n",
      "\n",
      "                                          related_talks  \\\n",
      "4002  {2406: 'I love being a police officer, but we ...   \n",
      "4003  {20973: 'The breathtaking courage of Harriet T...   \n",
      "4004  {62347: 'The bug that poops candy', 29159: 'In...   \n",
      "\n",
      "                                                    url  \\\n",
      "4002  https://www.ted.com/talks/dick_m_carpenter_ii_...   \n",
      "4003  https://www.ted.com/talks/daina_ramey_berry_th...   \n",
      "4004  https://www.ted.com/talks/cella_wright_the_mos...   \n",
      "\n",
      "                                            description  \\\n",
      "4002  Many countries have an active, centuries-old l...   \n",
      "4003  Isabella Baumfree was born into slavery in lat...   \n",
      "4004  Is it a fuzzy sock? An overripe banana? A mold...   \n",
      "\n",
      "                                             transcript  \n",
      "4002  Picture yourself driving down the road tomorro...  \n",
      "4003  In early 1828, Sojourner Truth approached the ...  \n",
      "4004  Can you guess what you’re looking at? Is it a ...  \n"
     ]
    }
   ],
   "source": [
    "print(df.tail(3))"
   ]
  },
  {
   "cell_type": "code",
   "execution_count": 35,
   "id": "455ff98a-41d0-4c9e-b2b3-636f419a9d55",
   "metadata": {},
   "outputs": [
    {
     "name": "stdout",
     "output_type": "stream",
     "text": [
      " shape :(4005, 19)\n",
      "\n",
      " columns :['talk_id', 'title', 'speaker_1', 'all_speakers', 'occupations', 'about_speakers', 'views', 'recorded_date', 'published_date', 'event', 'native_lang', 'available_lang', 'comments', 'duration', 'topics', 'related_talks', 'url', 'description', 'transcript']\n"
     ]
    }
   ],
   "source": [
    "# print shape and columns\n",
    "print(f\" shape :{df.shape}\")\n",
    "print()\n",
    "print(f\" columns :{list(df.columns)}\")"
   ]
  },
  {
   "cell_type": "code",
   "execution_count": 36,
   "id": "b492b516-1c3e-4d03-a59b-db650c69eba1",
   "metadata": {},
   "outputs": [
    {
     "data": {
      "text/html": [
       "<div>\n",
       "<style scoped>\n",
       "    .dataframe tbody tr th:only-of-type {\n",
       "        vertical-align: middle;\n",
       "    }\n",
       "\n",
       "    .dataframe tbody tr th {\n",
       "        vertical-align: top;\n",
       "    }\n",
       "\n",
       "    .dataframe thead th {\n",
       "        text-align: right;\n",
       "    }\n",
       "</style>\n",
       "<table border=\"1\" class=\"dataframe\">\n",
       "  <thead>\n",
       "    <tr style=\"text-align: right;\">\n",
       "      <th></th>\n",
       "      <th>talk_id</th>\n",
       "      <th>views</th>\n",
       "      <th>comments</th>\n",
       "      <th>duration</th>\n",
       "    </tr>\n",
       "  </thead>\n",
       "  <tbody>\n",
       "    <tr>\n",
       "      <th>count</th>\n",
       "      <td>4005.000000</td>\n",
       "      <td>4.005000e+03</td>\n",
       "      <td>3350.000000</td>\n",
       "      <td>4005.000000</td>\n",
       "    </tr>\n",
       "    <tr>\n",
       "      <th>mean</th>\n",
       "      <td>12432.538327</td>\n",
       "      <td>2.148006e+06</td>\n",
       "      <td>161.997015</td>\n",
       "      <td>724.011236</td>\n",
       "    </tr>\n",
       "    <tr>\n",
       "      <th>std</th>\n",
       "      <td>17447.576262</td>\n",
       "      <td>3.451226e+06</td>\n",
       "      <td>268.838922</td>\n",
       "      <td>361.775462</td>\n",
       "    </tr>\n",
       "    <tr>\n",
       "      <th>min</th>\n",
       "      <td>1.000000</td>\n",
       "      <td>0.000000e+00</td>\n",
       "      <td>0.000000</td>\n",
       "      <td>60.000000</td>\n",
       "    </tr>\n",
       "    <tr>\n",
       "      <th>25%</th>\n",
       "      <td>1252.000000</td>\n",
       "      <td>8.820690e+05</td>\n",
       "      <td>38.000000</td>\n",
       "      <td>393.000000</td>\n",
       "    </tr>\n",
       "    <tr>\n",
       "      <th>50%</th>\n",
       "      <td>2333.000000</td>\n",
       "      <td>1.375508e+06</td>\n",
       "      <td>89.000000</td>\n",
       "      <td>738.000000</td>\n",
       "    </tr>\n",
       "    <tr>\n",
       "      <th>75%</th>\n",
       "      <td>23777.000000</td>\n",
       "      <td>2.133110e+06</td>\n",
       "      <td>188.000000</td>\n",
       "      <td>974.000000</td>\n",
       "    </tr>\n",
       "    <tr>\n",
       "      <th>max</th>\n",
       "      <td>62794.000000</td>\n",
       "      <td>6.505195e+07</td>\n",
       "      <td>6449.000000</td>\n",
       "      <td>3922.000000</td>\n",
       "    </tr>\n",
       "  </tbody>\n",
       "</table>\n",
       "</div>"
      ],
      "text/plain": [
       "            talk_id         views     comments     duration\n",
       "count   4005.000000  4.005000e+03  3350.000000  4005.000000\n",
       "mean   12432.538327  2.148006e+06   161.997015   724.011236\n",
       "std    17447.576262  3.451226e+06   268.838922   361.775462\n",
       "min        1.000000  0.000000e+00     0.000000    60.000000\n",
       "25%     1252.000000  8.820690e+05    38.000000   393.000000\n",
       "50%     2333.000000  1.375508e+06    89.000000   738.000000\n",
       "75%    23777.000000  2.133110e+06   188.000000   974.000000\n",
       "max    62794.000000  6.505195e+07  6449.000000  3922.000000"
      ]
     },
     "execution_count": 36,
     "metadata": {},
     "output_type": "execute_result"
    }
   ],
   "source": [
    "# describe\n",
    "df.describe()"
   ]
  },
  {
   "cell_type": "code",
   "execution_count": 37,
   "id": "34e86ac1-cf1b-4ca7-9305-6fd7a1acb871",
   "metadata": {},
   "outputs": [
    {
     "name": "stdout",
     "output_type": "stream",
     "text": [
      "<class 'pandas.core.frame.DataFrame'>\n",
      "RangeIndex: 4005 entries, 0 to 4004\n",
      "Data columns (total 19 columns):\n",
      " #   Column          Non-Null Count  Dtype  \n",
      "---  ------          --------------  -----  \n",
      " 0   talk_id         4005 non-null   int64  \n",
      " 1   title           4005 non-null   object \n",
      " 2   speaker_1       4005 non-null   object \n",
      " 3   all_speakers    4001 non-null   object \n",
      " 4   occupations     3483 non-null   object \n",
      " 5   about_speakers  3502 non-null   object \n",
      " 6   views           4005 non-null   int64  \n",
      " 7   recorded_date   4004 non-null   object \n",
      " 8   published_date  4005 non-null   object \n",
      " 9   event           4005 non-null   object \n",
      " 10  native_lang     4005 non-null   object \n",
      " 11  available_lang  4005 non-null   object \n",
      " 12  comments        3350 non-null   float64\n",
      " 13  duration        4005 non-null   int64  \n",
      " 14  topics          4005 non-null   object \n",
      " 15  related_talks   4005 non-null   object \n",
      " 16  url             4005 non-null   object \n",
      " 17  description     4005 non-null   object \n",
      " 18  transcript      4005 non-null   object \n",
      "dtypes: float64(1), int64(3), object(15)\n",
      "memory usage: 594.6+ KB\n"
     ]
    }
   ],
   "source": [
    "# info\n",
    "df.info()"
   ]
  },
  {
   "cell_type": "code",
   "execution_count": 38,
   "id": "63ff3098-930b-4510-beba-958e9dc77a34",
   "metadata": {},
   "outputs": [
    {
     "data": {
      "text/plain": [
       "talk_id             0\n",
       "title               0\n",
       "speaker_1           0\n",
       "all_speakers        4\n",
       "occupations       522\n",
       "about_speakers    503\n",
       "views               0\n",
       "recorded_date       1\n",
       "published_date      0\n",
       "event               0\n",
       "native_lang         0\n",
       "available_lang      0\n",
       "comments          655\n",
       "duration            0\n",
       "topics              0\n",
       "related_talks       0\n",
       "url                 0\n",
       "description         0\n",
       "transcript          0\n",
       "dtype: int64"
      ]
     },
     "execution_count": 38,
     "metadata": {},
     "output_type": "execute_result"
    }
   ],
   "source": [
    "# missing/null values\n",
    "df.isna().sum()"
   ]
  },
  {
   "cell_type": "code",
   "execution_count": 43,
   "id": "ed2652bf-e6c6-4725-9e2b-b831cc8370ce",
   "metadata": {},
   "outputs": [
    {
     "data": {
      "image/png": "[encoded data removed]",
      "text/plain": [
       "<Figure size 1400x400 with 2 Axes>"
      ]
     },
     "metadata": {},
     "output_type": "display_data"
    }
   ],
   "source": [
    "# null visualization\n",
    "plt.rcParams['figure.figsize'] = (14,4)\n",
    "sns.heatmap(df.isna())\n",
    "plt.show()"
   ]
  },
  {
   "cell_type": "markdown",
   "id": "66fa235f-3b91-4157-90d4-161e01bbabf3",
   "metadata": {},
   "source": [
    "#### Data Descriptions\n",
    "1. Shape : (19, 4005)\n",
    "2. Columns :\n",
    "   * talk_id : unique id (null 0)\n",
    "   * title : title of the event (null 0)\n",
    "   * speaker_1 : name of the speaker (null 0)\n",
    "   * all_speakers : name of all speakers (null 4)\n",
    "   * occupations : occupation of the speakers (null 522)\n",
    "   * about_speakers : bio of speaker (null 503)\n",
    "   * view : number of views (null 0)\n",
    "   * recorded_date : video recording date (null 1)\n",
    "   * published_date : video published date (null 0)\n",
    "   * event : event type (null 0)\n",
    "   * native_lang : native language (null 0)\n",
    "   * available_lang : available language (null 0)\n",
    "   * comments : (null 655)\n",
    "   * duration : duration of the video (null 0)\n",
    "   * topics : topics (null 0)\n",
    "   * related_talks : (null 0)\n",
    "   * url : url (null 0)\n",
    "   * description : descriptions (null 0)\n",
    "   * transcript : transcript (null 0)"
   ]
  },
  {
   "cell_type": "code",
   "execution_count": null,
   "id": "5f7b8030-24b3-482d-99e7-8559958a785f",
   "metadata": {},
   "outputs": [],
   "source": []
  },
  {
   "cell_type": "code",
   "execution_count": null,
   "id": "27fdcf3d-ae37-45d6-944b-c634b37f5c1b",
   "metadata": {},
   "outputs": [],
   "source": []
  },
  {
   "cell_type": "code",
   "execution_count": null,
   "id": "891954f0-c717-4273-9f1b-7df4661dca0b",
   "metadata": {},
   "outputs": [],
   "source": []
  },
  {
   "cell_type": "code",
   "execution_count": null,
   "id": "5b7e3dc5-e393-400c-8c1f-156ec0c8d97b",
   "metadata": {},
   "outputs": [],
   "source": []
  },
  {
   "cell_type": "code",
   "execution_count": 8,
   "id": "8a664c17-6dbc-4e1a-a8f7-6caf4c30b473",
   "metadata": {},
   "outputs": [],
   "source": [
    "transcripts = df['transcript']"
   ]
  },
  {
   "cell_type": "code",
   "execution_count": 9,
   "id": "886a66dc-f63a-42ff-91f6-1dc67ed84367",
   "metadata": {},
   "outputs": [
    {
     "data": {
      "text/plain": [
       "'About 10 years ago, I took on the task to teach global development to Swedish undergraduate students. That was after having spent about 20 years, together with African institutions, studying hunger in Africa. So I was sort of expected to know a little about the world. And I started, in our medical university, Karolinska Institute, an undergraduate course called Global Health. But when you get that opportunity, you get a little nervous. I thought, these students coming to us actually have the highest grade you can get in the Swedish college system, so I thought, maybe they know everything I\\'m going to teach them about. So I did a pretest when they came. And one of the questions from which I learned a lot was this one: \"Which country has the highest child mortality of these five pairs?\" And I put them together so that in each pair of countries, one has twice the child mortality of the other. And this means that it\\'s much bigger, the difference, than the uncertainty of the data. I won\\'t put you at a test here, but it\\'s Turkey, which is highest there, Poland, Russia, Pakistan and South Africa. And these were the results of the Swedish students. I did it so I got the confidence interval, which is pretty narrow. And I got happy, of course — a 1.8 right answer out of five possible. That means there was a place for a professor of international health and for my course. (Laughter) But one late night, when I was compiling the report, I really realized my discovery. I have shown that Swedish top students know, statistically, significantly less about the world than the chimpanzees. (Laughter) Because the chimpanzee would score half right if I gave them two bananas with Sri Lanka and Turkey. They would be right half of the cases. But the students are not there. The problem for me was not ignorance; it was preconceived ideas. I did also an unethical study of the professors of the Karolinska Institute, which hands out the Nobel Prize in Medicine, and they are on par with the chimpanzee there. (Laughter) This is where I realized that there was really a need to communicate, because the data of what\\'s happening in the world and the child health of every country is very well aware. So we did this software, which displays it like this. Every bubble here is a country. This country over here is China. This is India. The size of the bubble is the population, and on this axis here, I put fertility rate. Because my students, what they said when they looked upon the world, and I asked them, \"What do you really think about the world?\" Well, I first discovered that the textbook was Tintin, mainly. (Laughter) And they said, \"The world is still \\'we\\' and \\'them.\\' And \\'we\\' is the Western world and \\'them\\' is the Third World.\" \"And what do you mean with \\'Western world?\\'\" I said. \"Well, that\\'s long life and small family. And \\'Third World\\' is short life and large family.\" So this is what I could display here. I put fertility rate here — number of children per woman: one, two, three, four, up to about eight children per woman. We have very good data since 1962, 1960, about, on the size of families in all countries. The error margin is narrow. Here, I put life expectancy at birth, from 30 years in some countries, up to about 70 years. And in 1962, there was really a group of countries here that were industrialized countries, and they had small families and long lives. And these were the developing countries. They had large families and they had relatively short lives. Now, what has happened since 1962? We want to see the change. Are the students right? It\\'s still two types of countries? Or have these developing countries got smaller families and they live here? Or have they got longer lives and live up there? Let\\'s see. We stopped the world then. This is all UN statistics that have been available. Here we go. Can you see there? It\\'s China there, moving against better health there, improving there. All the green Latin American countries are moving towards smaller families. Your yellow ones here are the Arabic countries, and they get longer life, but not larger families. The Africans are the green here. They still remain here. This is India; Indonesia is moving on pretty fast. In the \\'80s here, you have Bangladesh still among the African countries. But now, Bangladesh — it\\'s a miracle that happens in the \\'80s — the imams start to promote family planning, and they move up into that corner. And in the \\'90s, we have the terrible HIV epidemic that takes down the life expectancy of the African countries. And the rest of them all move up into the corner, where we have long lives and small family, and we have a completely new world. (Applause) (Applause ends) Let me make a comparison directly between the United States of America and Vietnam. 1964: America had small families and long life; Vietnam had large families and short lives. And this is what happens. The data during the war indicate that even with all the death, there was an improvement of life expectancy. By the end of the year, family planning started in Vietnam, and they went for smaller families. And the United States up there is getting longer life, keeping family size. And in the \\'80s now, they give up Communist planning and they go for market economy, and it moves faster even than social life. And today, we have in Vietnam the same life expectancy and the same family size here in Vietnam, 2003, as in United States, 1974, by the end of the war. I think we all, if we don\\'t look at the data, we underestimate the tremendous change in Asia, which was in social change before we saw the economic change. So let\\'s move over to another way here in which we could display the distribution in the world of income. This is the world distribution of income of people. One dollar, 10 dollars or 100 dollars per day. There\\'s no gap between rich and poor any longer. This is a myth. There\\'s a little hump here. But there are people all the way. And if we look where the income ends up, this is 100 percent of the world\\'s annual income. And the richest 20 percent, they take out of that about 74 percent. And the poorest 20 percent, they take about two percent. And this shows that the concept of developing countries is extremely doubtful. We think about aid, like these people here giving aid to these people here. But in the middle, we have most of the world population, and they have now 24 percent of the income. We heard it in other forms. And who are these? Where are the different countries? I can show you Africa. This is Africa. Ten percent of the world population, most in poverty. This is OECD — the rich countries, the country club of the UN. And they are over here on this side. Quite an overlap between Africa and OECD. And this is Latin America. It has everything on this earth, from the poorest to the richest in Latin America. And on top of that, we can put East Europe, we can put East Asia, and we put South Asia. And what did it look like if we go back in time, to about 1970? Then, there was more of a hump. And most who lived in absolute poverty were Asians. The problem in the world was the poverty in Asia. And if I now let the world move forward, you will see that while population increases, there are hundreds of millions in Asia getting out of poverty, and some others getting into poverty, and this is the pattern we have today. And the best projection from the World Bank is that this will happen, and we will not have a divided world. We\\'ll have most people in the middle. Of course it\\'s a logarithmic scale here, but our concept of economy is growth with percent. We look upon it as a possibility of percentile increase. If I change this and take GDP per capita instead of family income, and I turn these individual data into regional data of gross domestic product, and I take the regions down here, the size of the bubble is still the population. And you have the OECD there, and you have sub-Saharan Africa there, and we take off the Arab states there, coming both from Africa and from Asia, and we put them separately, and we can expand this axis, and I can give it a new dimension here, by adding the social values there, child survival. Now I have money on that axis, and I have the possibility of children to survive there. In some countries, 99.7% of children survive to five years of age; others, only 70. And here, it seems, there is a gap between OECD, Latin America, East Europe, East Asia, Arab states, South Asia and sub-Saharan Africa. The linearity is very strong between child survival and money. But let me split sub-Saharan Africa. Health is there and better health is up there. I can go here, and I can split sub-Saharan Africa into its countries. And when it bursts, the size of each country bubble is the size of the population. Sierra Leone down there, Mauritius is up there. Mauritius was the first country to get away with trade barriers, and they could sell their sugar, they could sell their textiles, on equal terms as the people in Europe and North America. There\\'s a huge difference [within] Africa. And Ghana is here in the middle. In Sierra Leone, humanitarian aid. Here in Uganda, development aid. Here, time to invest; there, you can go for a holiday. There\\'s tremendous variation within Africa, which we very often make that it\\'s equal everything. I can split South Asia here. India\\'s the big bubble in the middle. But there\\'s a huge difference between Afghanistan and Sri Lanka. I can split Arab states. How are they? Same climate, same culture, same religion — huge difference. Even between neighbors — Yemen, civil war; United Arab Emirates, money, which was quite equally and well-used. Not as the myth is. And that includes all the children of the foreign workers who are in the country. Data is often better than you think. Many people say data is bad. There is an uncertainty margin, but we can see the difference here: Cambodia, Singapore. The differences are much bigger than the weakness of the data. East Europe: Soviet economy for a long time, but they come out after 10 years very, very differently. And there is Latin America. Today, we don\\'t have to go to Cuba to find a healthy country in Latin America. Chile will have a lower child mortality than Cuba within some few years from now. Here, we have high-income countries in the OECD. And we get the whole pattern here of the world, which is more or less like this. And if we look at it, how the world looks, in 1960, it starts to move. This is Mao Zedong. He brought health to China. And then he died. And then Deng Xiaoping came and brought money to China, and brought them into the mainstream again. And we have seen how countries move in different directions like this, so it\\'s sort of difficult to get an example country which shows the pattern of the world. But I would like to bring you back to about here, at 1960. I would like to compare South Korea, which is this one, with Brazil, which is this one. The label went away for me here. And I would like to compare Uganda, which is there. I can run it forward, like this. And you can see how South Korea is making a very, very fast advancement, whereas Brazil is much slower. And if we move back again, here, and we put trails on them, like this, you can see again that the speed of development is very, very different, and the countries are moving more or less at the same rate as money and health, but it seems you can move much faster if you are healthy first than if you are wealthy first. And to show that, you can put on the way of United Arab Emirates. They came from here, a mineral country. They cached all the oil; they got all the money; but health cannot be bought at the supermarket. You have to invest in health. You have to get kids into schooling. You have to train health staff. You have to educate the population. And Sheikh Zayed did that in a fairly good way. In spite of falling oil prices, he brought this country up here. So we\\'ve got a much more mainstream appearance of the world, where all countries tend to use their money better than they used it in the past. Now, this is, more or less, if you look at the average data of the countries — they are like this. That\\'s dangerous, to use average data, because there is such a lot of difference within countries. So if I go and look here, we can see that Uganda today is where South Korea was in 1960. If I split Uganda, there\\'s quite a difference within Uganda. These are the quintiles of Uganda. The richest 20 percent of Ugandans are there. The poorest are down there. If I split South Africa, it\\'s like this. And if I go down and look at Niger, where there was such a terrible famine [recently], it\\'s like this. The 20 percent poorest of Niger is out here, and the 20 percent richest of South Africa is there, and yet we tend to discuss what solutions there should be in Africa. Everything in this world exists in Africa. And you can\\'t discuss universal access to HIV [treatment] for that quintile up here with the same strategy as down here. The improvement of the world must be highly contextualized, and it\\'s not relevant to have it on a regional level. We must be much more detailed. We find that students get very excited when they can use this. And even more, policy makers and the corporate sectors would like to see how the world is changing. Now, why doesn\\'t this take place? Why are we not using the data we have? We have data in the United Nations, in the national statistical agencies and in universities and other nongovernmental organizations. Because the data is hidden down in the databases. And the public is there, and the internet is there, but we have still not used it effectively. All that information we saw changing in the world does not include publicly funded statistics. There are some web pages like this, you know, but they take some nourishment down from the databases, but people put prices on them, stupid passwords and boring statistics. (Laughter) And this won\\'t work. (Applause) So what is needed? We have the databases. It\\'s not a new database that you need. We have wonderful design tools and more and more are added up here. So we started a nonprofit venture linking data to design, we called \"Gapminder,\" from the London Underground, where they warn you, \"Mind the gap.\" So we thought Gapminder was appropriate. And we started to write software which could link the data like this. And it wasn\\'t that difficult. It took some person years, and we have produced animations. You can take a data set and put it there. We are liberating UN data, some few UN organization. Some countries accept that their databases can go out on the world. But what we really need is, of course, a search function, a search function where we can copy the data up to a searchable format and get it out in the world. And what do we hear when we go around? I\\'ve done anthropology on the main statistical units. Everyone says, \"It\\'s impossible. This can\\'t be done. Our information is so peculiar in detail, so that cannot be searched as others can be searched. We cannot give the data free to the students, free to the entrepreneurs of the world.\" But this is what we would like to see, isn\\'t it? The publicly funded data is down here. And we would like flowers to grow out on the net. One of the crucial points is to make them searchable, and then people can use the different design tools to animate it there. And I have pretty good news for you. I have good news that the [current], new head of UN statistics doesn\\'t say it\\'s impossible. He only says, \"We can\\'t do it.\" (Laughter) And that\\'s a quite clever guy, huh? (Laughter) So we can see a lot happening in data in the coming years. We will be able to look at income distributions in completely new ways. This is the income distribution of China, 1970. This is the income distribution of the United States, 1970. Almost no overlap. Almost no overlap. And what has happened? What has happened is this: that China is growing, it\\'s not so equal any longer, and it\\'s appearing here, overlooking the United States, almost like a ghost, isn\\'t it? (Laughter) It\\'s pretty scary. (Laughter) But I think it\\'s very important to have all this information. We need really to see it. And instead of looking at this, I would like to end up by showing the internet users per 1,000. In this software, we access about 500 variables from all the countries quite easily. It takes some time to change for this, but on the axes, you can quite easily get any variable you would like to have. And the thing would be to get up the databases free, to get them searchable, and with a second click, to get them into the graphic formats, where you can instantly understand them. Now, statisticians don\\'t like it, because they say that this will not show the reality; we have to have statistical, analytical methods. But this is hypothesis-generating. I end now with the world. There, the internet is coming. The number of internet users are going up like this. This is the GDP per capita. And it\\'s a new technology coming in, but then amazingly, how well it fits to the economy of the countries. That\\'s why the $100 computer will be so important. But it\\'s a nice tendency. It\\'s as if the world is flattening off, isn\\'t it? These countries are lifting more than the economy, and it will be very interesting to follow this over the year, as I would like you to be able to do with all the publicly funded data. Thank you very much. (Applause)'"
      ]
     },
     "execution_count": 9,
     "metadata": {},
     "output_type": "execute_result"
    }
   ],
   "source": [
    "transcripts[1]"
   ]
  },
  {
   "cell_type": "code",
   "execution_count": null,
   "id": "bbb73569-0cab-47fa-935d-435cf8fb5e68",
   "metadata": {},
   "outputs": [],
   "source": []
  }
 ],
 "metadata": {
  "kernelspec": {
   "display_name": "Python 3 (ipykernel)",
   "language": "python",
   "name": "python3"
  },
  "language_info": {
   "codemirror_mode": {
    "name": "ipython",
    "version": 3
   },
   "file_extension": ".py",
   "mimetype": "text/x-python",
   "name": "python",
   "nbconvert_exporter": "python",
   "pygments_lexer": "ipython3",
   "version": "3.11.4"
  },
  "widgets": {
   "application/vnd.jupyter.widget-state+json": {
    "state": {},
    "version_major": 2,
    "version_minor": 0
   }
  }
 },
 "nbformat": 4,
 "nbformat_minor": 5
}
